{
  "nbformat": 4,
  "nbformat_minor": 0,
  "metadata": {
    "colab": {
      "provenance": [],
      "authorship_tag": "ABX9TyMRCijWdOxYbXgM3kxxcNkT",
      "include_colab_link": true
    },
    "kernelspec": {
      "name": "python3",
      "display_name": "Python 3"
    },
    "language_info": {
      "name": "python"
    }
  },
  "cells": [
    {
      "cell_type": "markdown",
      "metadata": {
        "id": "view-in-github",
        "colab_type": "text"
      },
      "source": [
        "<a href=\"https://colab.research.google.com/github/oz-e/applied-ml/blob/main/split_datasets_fixed.ipynb\" target=\"_parent\"><img src=\"https://colab.research.google.com/assets/colab-badge.svg\" alt=\"Open In Colab\"/></a>"
      ]
    },
    {
      "cell_type": "code",
      "execution_count": 1,
      "metadata": {
        "id": "tmVBQ4jcRO4T"
      },
      "outputs": [],
      "source": [
        "import torchvision\n",
        "\n",
        "caltech101_dataset = torchvision.datasets.Caltech101(root='datasets', download=True)"
      ]
    },
    {
      "cell_type": "code",
      "source": [
        "!gdown 1hyarUivQE36mY6jSomru6Fjd-JzwcCzN -O datasets/caltech101/\n",
        "\n",
        "import json\n",
        "\n",
        "with open('datasets/caltech101/split_zhou_Caltech101.json', 'r') as f:\n",
        "  caltech101_split = json.load(f)"
      ],
      "metadata": {
        "colab": {
          "base_uri": "https://localhost:8080/"
        },
        "id": "I0xTy5SnT0fL",
        "outputId": "bc792718-889f-4765-8694-c7c6fcf61f0f"
      },
      "execution_count": 2,
      "outputs": [
        {
          "output_type": "stream",
          "name": "stdout",
          "text": [
            "Downloading...\n",
            "From: https://drive.google.com/uc?id=1hyarUivQE36mY6jSomru6Fjd-JzwcCzN\n",
            "To: /content/datasets/caltech101/split_zhou_Caltech101.json\n",
            "\r  0% 0.00/809k [00:00<?, ?B/s]\r100% 809k/809k [00:00<00:00, 116MB/s]\n"
          ]
        }
      ]
    },
    {
      "cell_type": "code",
      "source": [
        "def split_dataset(dataset, sub_dir, split_dict):\n",
        "  import os\n",
        "  import torch\n",
        "\n",
        "  root_len = len(os.path.join(dataset.root, sub_dir)) + 1\n",
        "\n",
        "  image_path_to_index = {}\n",
        "  for idx, (image, _) in enumerate(dataset):\n",
        "    image_path_to_index[image.filename[root_len:]] = idx\n",
        "\n",
        "  indices = {key : [image_path_to_index[image_path] for (image_path, _, _) in val] for (key, val) in split_dict.items()}\n",
        "\n",
        "  return {key : torch.utils.data.Subset(dataset, val) for (key, val) in indices.items()}"
      ],
      "metadata": {
        "id": "OuU3NqOLf0xG"
      },
      "execution_count": 7,
      "outputs": []
    },
    {
      "cell_type": "code",
      "source": [
        "caltech101_datasets = split_dataset(caltech101_dataset, '101_ObjectCategories', caltech101_split)"
      ],
      "metadata": {
        "id": "qGTQXVvcijxO"
      },
      "execution_count": 8,
      "outputs": []
    }
  ]
}