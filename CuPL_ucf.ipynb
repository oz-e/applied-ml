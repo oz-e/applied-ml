{
  "nbformat": 4,
  "nbformat_minor": 0,
  "metadata": {
    "colab": {
      "provenance": [],
      "gpuType": "T4",
      "authorship_tag": "ABX9TyNQs6KUJhRqkdkPKbK9V11f",
      "include_colab_link": true
    },
    "kernelspec": {
      "name": "python3",
      "display_name": "Python 3"
    },
    "language_info": {
      "name": "python"
    },
    "accelerator": "GPU"
  },
  "cells": [
    {
      "cell_type": "markdown",
      "metadata": {
        "id": "view-in-github",
        "colab_type": "text"
      },
      "source": [
        "<a href=\"https://colab.research.google.com/github/oz-e/applied-ml/blob/main/CuPL_ucf.ipynb\" target=\"_parent\"><img src=\"https://colab.research.google.com/assets/colab-badge.svg\" alt=\"Open In Colab\"/></a>"
      ]
    },
    {
      "cell_type": "code",
      "execution_count": 13,
      "metadata": {
        "colab": {
          "base_uri": "https://localhost:8080/"
        },
        "id": "gOT2a2N2Yof_",
        "outputId": "9c3fc4fd-37c7-4ad9-f477-54930f24def4"
      },
      "outputs": [
        {
          "output_type": "stream",
          "name": "stdout",
          "text": [
            "Looks that a private key is already created. If you have already push it to github, no action required.\n",
            " Otherwise, Please go to https://github.com/settings/ssh/new to upload the following key: \n",
            "ssh-ed25519 AAAAC3NzaC1lZDI1NTE5AAAAIFHmJoQTHvjDC5CFbH+0hyXoxIbBc64gmuePeSGWxhke root@c46c19f673a8\n",
            "\n",
            "Please use SSH method to clone repo.\n",
            "/content/applied-ml\n",
            "Requirement already satisfied: openai-clip in /usr/local/lib/python3.11/dist-packages (1.0.1)\n",
            "Requirement already satisfied: ftfy in /usr/local/lib/python3.11/dist-packages (from openai-clip) (6.3.1)\n",
            "Requirement already satisfied: regex in /usr/local/lib/python3.11/dist-packages (from openai-clip) (2024.11.6)\n",
            "Requirement already satisfied: tqdm in /usr/local/lib/python3.11/dist-packages (from openai-clip) (4.67.1)\n",
            "Requirement already satisfied: wcwidth in /usr/local/lib/python3.11/dist-packages (from ftfy->openai-clip) (0.2.13)\n"
          ]
        }
      ],
      "source": [
        "# Change the path if necessary\n",
        "datasets_path = 'datasets'\n",
        "\n",
        "import sys\n",
        "import os\n",
        "\n",
        "# Deploy AML code in colab\n",
        "if 'google.colab' in sys.modules:\n",
        "  if not os.path.exists('/content/applied-ml/'):\n",
        "    !wget -q https://raw.githubusercontent.com/tsunrise/colab-github/main/colab_github.py\n",
        "    import colab_github\n",
        "    colab_github.github_auth(persistent_key=False)\n",
        "\n",
        "    !git clone git@github.com:oz-e/applied-ml.git\n",
        "    if not os.path.exists('/content/applied-ml/'):\n",
        "      raise Exception('Please follow the instructions to add the SSH key to your account in order to clone private repo')\n",
        "  %cd /content/applied-ml/\n",
        "\n",
        "  # Install any other requirements (to be converted to requirements.txt)\n",
        "  !pip install openai-clip"
      ]
    },
    {
      "cell_type": "code",
      "source": [
        "import os\n",
        "\n",
        "if not os.path.exists(\"CuPL\"):\n",
        "  !git clone https://github.com/sarahpratt/CuPL.git"
      ],
      "metadata": {
        "id": "CNDfTcucYyJ1"
      },
      "execution_count": 14,
      "outputs": []
    },
    {
      "cell_type": "code",
      "source": [
        "import numpy as np\n",
        "import torch\n",
        "import clip\n",
        "from pkg_resources import packaging\n",
        "from CuPL.imagenet_prompts.standard_image_prompts import imagenet_templates\n",
        "import pdb\n",
        "from collections import defaultdict\n",
        "from PIL import Image\n",
        "import PIL\n",
        "import json\n",
        "from tqdm import tqdm"
      ],
      "metadata": {
        "id": "jtmnqOzCbmfr"
      },
      "execution_count": 15,
      "outputs": []
    },
    {
      "cell_type": "code",
      "source": [
        "model, preprocess = clip.load(\"ViT-B/16\")"
      ],
      "metadata": {
        "id": "2OOZZLgVbq7k"
      },
      "execution_count": 16,
      "outputs": []
    },
    {
      "cell_type": "code",
      "source": [
        "import aml.datasets\n",
        "\n",
        "all_images = aml.datasets.UCF101(datasets_path, split='test', transform=preprocess)\n",
        "loader = torch.utils.data.DataLoader(all_images, batch_size=512, num_workers=8)"
      ],
      "metadata": {
        "colab": {
          "base_uri": "https://localhost:8080/"
        },
        "id": "bWp11SF3bQwg",
        "outputId": "a44caff2-e404-40d9-ed96-51590393871b"
      },
      "execution_count": 17,
      "outputs": [
        {
          "output_type": "stream",
          "name": "stderr",
          "text": [
            "Downloading...\n",
            "From (original): https://drive.google.com/uc?id=10Jqome3vtUA2keJkNanAiFpgbyC9Hc2O\n",
            "From (redirected): https://drive.usercontent.google.com/download?id=10Jqome3vtUA2keJkNanAiFpgbyC9Hc2O&confirm=t&uuid=53a364d7-44ed-4431-b4bc-f8c090958e68\n",
            "To: /content/applied-ml/datasets/ucf101/UCF-101-midframes.zip\n",
            "100%|██████████| 140M/140M [00:02<00:00, 55.8MB/s]\n",
            "Downloading...\n",
            "From: https://drive.google.com/uc?id=1I0S0q91hJfsV9Gf4xDIjgDq4AqBNJb1y\n",
            "To: /content/applied-ml/datasets/ucf101/split.json\n",
            "100%|██████████| 1.56M/1.56M [00:00<00:00, 133MB/s]\n"
          ]
        }
      ]
    },
    {
      "cell_type": "code",
      "source": [
        "PATH_TO_PROMPTS = './CuPL/all_prompts/full_prompts/ucf_prompts_full.json'\n",
        "\n",
        "with open(PATH_TO_PROMPTS) as f:\n",
        "  gpt3_prompts = json.load(f)"
      ],
      "metadata": {
        "id": "-EC3XKq2Zis4"
      },
      "execution_count": 18,
      "outputs": []
    },
    {
      "cell_type": "code",
      "source": [
        "special_class_mapping = {\n",
        "    'Hand Stand Pushups': 'Handstand_Pushups'\n",
        "}"
      ],
      "metadata": {
        "id": "r6KLeBmtarfp"
      },
      "execution_count": 19,
      "outputs": []
    },
    {
      "cell_type": "code",
      "source": [
        "# For bridging classsname in dataset with name in CuLP prompts\n",
        "new_gpt3_prompts = {}\n",
        "\n",
        "for key, value in gpt3_prompts.items():\n",
        "  new_key = special_class_mapping.get(key, key)\n",
        "  new_gpt3_prompts[new_key.replace(' ', '_')] = value"
      ],
      "metadata": {
        "id": "1S89k8iXjsYn"
      },
      "execution_count": 20,
      "outputs": []
    },
    {
      "cell_type": "code",
      "source": [
        "def zeroshot_classifier(classnames, templates):\n",
        "\twith torch.no_grad():\n",
        "\t\tzeroshot_weights = []\n",
        "\t\tfor classname in tqdm(classnames):\n",
        "\t\t\ttexts = [template.format(classname) for template in templates] #format with class\n",
        "\t\t\ttexts = clip.tokenize(texts).cuda() #tokenize\n",
        "\t\t\tclass_embeddings = model.encode_text(texts) #embed with text encoder\n",
        "\t\t\tclass_embeddings /= class_embeddings.norm(dim=-1, keepdim=True)\n",
        "\t\t\tclass_embedding = class_embeddings.mean(dim=0)\n",
        "\t\t\tclass_embedding /= class_embedding.norm()\n",
        "\t\t\tzeroshot_weights.append(class_embedding)\n",
        "\t\tzeroshot_weights = torch.stack(zeroshot_weights, dim=1).cuda()\n",
        "\treturn zeroshot_weights"
      ],
      "metadata": {
        "id": "9FsIz2qjbwIa"
      },
      "execution_count": 21,
      "outputs": []
    },
    {
      "cell_type": "code",
      "source": [
        "def zeroshot_classifier_gpt(classnames, templates, use_both):\n",
        "\twith torch.no_grad():\n",
        "\t\tzeroshot_weights = []\n",
        "\t\tfor classname in tqdm(classnames):\n",
        "\t\t\tif use_both:\n",
        "\t\t\t\ttexts = [template.format(classname) for template in templates]\n",
        "\t\t\telse:\n",
        "\t\t\t\ttexts = []\n",
        "\n",
        "\t\t\tfor t in new_gpt3_prompts[classname]:\n",
        "\t\t\t\ttexts.append(t)\n",
        "\t\t\ttexts = clip.tokenize(texts, truncate=True).cuda() #tokenize\n",
        "\t\t\tclass_embeddings = model.encode_text(texts) #embed with text encoder\n",
        "\t\t\tclass_embeddings /= class_embeddings.norm(dim=-1, keepdim=True)\n",
        "\t\t\tclass_embedding = class_embeddings.mean(dim=0)\n",
        "\t\t\tclass_embedding /= class_embedding.norm()\n",
        "\t\t\tzeroshot_weights.append(class_embedding)\n",
        "\n",
        "\t\tzeroshot_weights = torch.stack(zeroshot_weights, dim=1).cuda()\n",
        "\treturn zeroshot_weights"
      ],
      "metadata": {
        "id": "hUQlruDEbwy1"
      },
      "execution_count": 22,
      "outputs": []
    },
    {
      "cell_type": "code",
      "source": [
        "print(\"\\nCreating standard text embeddings...\")\n",
        "zeroshot_weights_base = zeroshot_classifier(all_images.classnames, imagenet_templates)\n",
        "print(\"Done.\\n\")\n",
        "\n",
        "print(\"Creating CuPL text embeddings...\")\n",
        "zeroshot_weights_cupl = zeroshot_classifier_gpt(all_images.classnames, imagenet_templates, False)\n",
        "print(\"Done.\\n\")\n",
        "\n",
        "print(\"Creating combined text embeddings...\")\n",
        "zeroshot_weights_gpt_both = zeroshot_classifier_gpt(all_images.classnames, imagenet_templates, True)\n",
        "print(\"Done.\\n\")"
      ],
      "metadata": {
        "colab": {
          "base_uri": "https://localhost:8080/"
        },
        "id": "Uct62dTFbyz4",
        "outputId": "6635af2b-4ac8-4976-b1e8-a7ef5e0e204c"
      },
      "execution_count": 23,
      "outputs": [
        {
          "output_type": "stream",
          "name": "stdout",
          "text": [
            "\n",
            "Creating standard text embeddings...\n"
          ]
        },
        {
          "output_type": "stream",
          "name": "stderr",
          "text": [
            "100%|██████████| 101/101 [00:05<00:00, 17.93it/s]\n"
          ]
        },
        {
          "output_type": "stream",
          "name": "stdout",
          "text": [
            "Done.\n",
            "\n",
            "Creating CuPL text embeddings...\n"
          ]
        },
        {
          "output_type": "stream",
          "name": "stderr",
          "text": [
            "100%|██████████| 101/101 [00:04<00:00, 25.15it/s]\n"
          ]
        },
        {
          "output_type": "stream",
          "name": "stdout",
          "text": [
            "Done.\n",
            "\n",
            "Creating combined text embeddings...\n"
          ]
        },
        {
          "output_type": "stream",
          "name": "stderr",
          "text": [
            "100%|██████████| 101/101 [00:09<00:00, 11.02it/s]"
          ]
        },
        {
          "output_type": "stream",
          "name": "stdout",
          "text": [
            "Done.\n",
            "\n"
          ]
        },
        {
          "output_type": "stream",
          "name": "stderr",
          "text": [
            "\n"
          ]
        }
      ]
    },
    {
      "cell_type": "code",
      "source": [
        "total = 0.\n",
        "correct_base = 0.\n",
        "correct_cupl = 0.\n",
        "correct_both = 0.\n",
        "\n",
        "print(\"Classifying ImageNet...\")\n",
        "\n",
        "with torch.no_grad():\n",
        "\n",
        "\tfor i, (images, target) in enumerate(tqdm(loader)):\n",
        "\t\timages = images.cuda()\n",
        "\t\ttarget = target.cuda()\n",
        "\n",
        "\t\t# predict\n",
        "\t\timage_features = model.encode_image(images)\n",
        "\t\timage_features /= image_features.norm(dim=-1, keepdim=True)\n",
        "\n",
        "\t\tlogits_base = image_features @ zeroshot_weights_base\n",
        "\t\tlogits_cupl = image_features @ zeroshot_weights_cupl\n",
        "\t\tlogits_both = image_features @ zeroshot_weights_gpt_both\n",
        "\n",
        "\t\tpred_base = torch.argmax(logits_base, dim =1)\n",
        "\t\tpred_cupl = torch.argmax(logits_cupl, dim =1)\n",
        "\t\tpred_both = torch.argmax(logits_both, dim =1)\n",
        "\n",
        "\t\tfor j in range(len(target)):\n",
        "\t\t\ttotal += 1.\n",
        "\t\t\tif pred_base[j] == target[j]:\n",
        "\t\t\t\tcorrect_base += 1.\n",
        "\t\t\tif pred_cupl[j] == target[j]:\n",
        "\t\t\t\tcorrect_cupl += 1.\n",
        "\t\t\tif pred_both[j] == target[j]:\n",
        "\t\t\t\tcorrect_both += 1."
      ],
      "metadata": {
        "id": "q6odbVXGdAts",
        "colab": {
          "base_uri": "https://localhost:8080/"
        },
        "outputId": "826986f7-5a38-4e30-e8ec-57eb7bdf9d12"
      },
      "execution_count": 24,
      "outputs": [
        {
          "output_type": "stream",
          "name": "stdout",
          "text": [
            "Classifying ImageNet...\n"
          ]
        },
        {
          "output_type": "stream",
          "name": "stderr",
          "text": [
            "100%|██████████| 8/8 [00:29<00:00,  3.64s/it]\n"
          ]
        }
      ]
    },
    {
      "cell_type": "code",
      "source": [
        "print()\n",
        "top1 = (correct_base / total) * 100\n",
        "print(f\"Top-1 accuracy standard: {top1:.2f}\")\n",
        "\n",
        "top1 = (correct_cupl / total) * 100\n",
        "print(f\"Top-1 accuracy CuPL: {top1:.2f}\")\n",
        "\n",
        "top1 = (correct_both / total) * 100\n",
        "print(f\"Top-1 accuracy both: {top1:.2f}\")"
      ],
      "metadata": {
        "id": "YjXwPA6ZdFZl",
        "colab": {
          "base_uri": "https://localhost:8080/"
        },
        "outputId": "fcbaa611-5ce2-4d52-e5f1-0eff20c6ffc1"
      },
      "execution_count": 25,
      "outputs": [
        {
          "output_type": "stream",
          "name": "stdout",
          "text": [
            "\n",
            "Top-1 accuracy standard: 65.08\n",
            "Top-1 accuracy CuPL: 70.34\n",
            "Top-1 accuracy both: 68.09\n"
          ]
        }
      ]
    }
  ]
}