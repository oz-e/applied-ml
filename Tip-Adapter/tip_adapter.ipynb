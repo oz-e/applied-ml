{
 "cells": [
  {
   "cell_type": "code",
   "execution_count": 1,
   "id": "ae3778c5",
   "metadata": {},
   "outputs": [],
   "source": [
    "import os\n",
    "import json\n",
    "import random\n",
    "import yaml\n",
    "from tqdm import tqdm\n",
    "\n",
    "import torch\n",
    "import torch.nn.functional as F\n",
    "import torch.nn as nn\n",
    "import torchvision.transforms as transforms\n",
    "\n",
    "from datasets import build_dataset\n",
    "from datasets.utils import build_data_loader\n",
    "import clip\n",
    "# from utils import *"
   ]
  },
  {
   "cell_type": "code",
   "execution_count": 2,
   "id": "41070be0",
   "metadata": {},
   "outputs": [
    {
     "name": "stdout",
     "output_type": "stream",
     "text": [
      "{'caltech101': {'root_path': '', 'load_cache': False, 'load_pre_feat': False, 'search_hp': True, 'search_scale': [12, 5], 'search_step': [200, 20], 'init_beta': 1, 'init_alpha': 3, 'dataset': 'caltech101', 'shots': 16, 'backbone': 'ViT-B/16', 'lr': 0.001, 'augment_epoch': 10, 'train_epoch': 20, 'cache_dir': './caches\\\\caltech101'}, 'food101': {'root_path': '', 'load_cache': False, 'load_pre_feat': False, 'search_hp': True, 'search_scale': [10, 10], 'search_step': [200, 20], 'init_beta': 1, 'init_alpha': 1.17, 'dataset': 'food101', 'shots': 16, 'backbone': 'ViT-B/16', 'lr': 0.001, 'augment_epoch': 10, 'train_epoch': 20, 'cache_dir': './caches\\\\food101'}, 'ucf101': {'root_path': '', 'load_cache': False, 'load_pre_feat': False, 'search_hp': True, 'search_scale': [7, 3], 'search_step': [200, 20], 'init_beta': 1, 'init_alpha': 3, 'dataset': 'ucf101', 'shots': 16, 'backbone': 'ViT-B/16', 'lr': 0.001, 'augment_epoch': 10, 'train_epoch': 20, 'cache_dir': './caches\\\\ucf101'}}\n"
     ]
    }
   ],
   "source": [
    "configs_dir = 'C:/Users/anish/Documents/AML/applied-ml/Tip-Adapter/configs'\n",
    "\n",
    "# Get all YAML files in the directory\n",
    "yaml_files = [f for f in os.listdir(configs_dir) if f.endswith('.yaml')]\n",
    "\n",
    "# Dictionary to store all loaded configs\n",
    "all_configs = {}\n",
    "\n",
    "for yaml_file in yaml_files:\n",
    "    config_path = os.path.join(configs_dir, yaml_file)\n",
    "\n",
    "    assert os.path.exists(config_path), f\"Config file not found: {config_path}\"\n",
    "    \n",
    "    # Load YAML configuration\n",
    "    cfg = yaml.load(open(config_path, 'r'), Loader=yaml.Loader)\n",
    "\n",
    "    # Create cache directory based on dataset\n",
    "    cache_dir = os.path.join('./caches', cfg['dataset'])\n",
    "    os.makedirs(cache_dir, exist_ok=True)\n",
    "    cfg['cache_dir'] = cache_dir\n",
    "\n",
    "    # Store config in dictionary using filename (without extension) as key\n",
    "    config_key = os.path.splitext(yaml_file)[0]\n",
    "    all_configs[config_key] = cfg\n",
    "\n",
    "# Example: Access a specific config later\n",
    "print(all_configs)  # if the filename was caltech101.yaml\n"
   ]
  },
  {
   "cell_type": "markdown",
   "id": "e2f5ee34",
   "metadata": {},
   "source": [
    "# **FOR CALTECH-101**\n"
   ]
  },
  {
   "cell_type": "code",
   "execution_count": 3,
   "id": "04de4c7c",
   "metadata": {},
   "outputs": [],
   "source": [
    "def clip_classifier(classnames, template, clip_model, cupl_enable, dataset_name):\n",
    "    with open(rf\"CuPL_prompts/{dataset_name}.json\", \"r\") as f:\n",
    "        cupl_template = json.load(f)\n",
    "\n",
    "    with torch.no_grad():\n",
    "        clip_weights = []\n",
    "\n",
    "        for classname in classnames:\n",
    "            # Tokenize the prompts\n",
    "            classname = classname.replace('_', ' ')\n",
    "            texts = [t.format(classname) for t in template]\n",
    "            if cupl_enable is True:\n",
    "                for txt in cupl_template[classname]:\n",
    "                    texts.append(txt)\n",
    "            texts = clip.tokenize(texts).cuda()\n",
    "            # prompt ensemble for ImageNet\n",
    "            class_embeddings = clip_model.encode_text(texts)\n",
    "            class_embeddings /= class_embeddings.norm(dim=-1, keepdim=True)\n",
    "            class_embedding = class_embeddings.mean(dim=0)\n",
    "            class_embedding /= class_embedding.norm()\n",
    "            clip_weights.append(class_embedding)\n",
    "\n",
    "        clip_weights = torch.stack(clip_weights, dim=1).cuda()\n",
    "    return clip_weights"
   ]
  },
  {
   "cell_type": "code",
   "execution_count": 4,
   "id": "de258d00",
   "metadata": {},
   "outputs": [],
   "source": [
    "def build_cache_model(cfg, clip_model, train_loader_cache):\n",
    "\n",
    "    if cfg['load_cache'] == False:    \n",
    "        cache_keys = []\n",
    "        cache_values = []\n",
    "\n",
    "        with torch.no_grad():\n",
    "            # Data augmentation for the cache model\n",
    "            for augment_idx in range(cfg['augment_epoch']):\n",
    "                train_features = []\n",
    "\n",
    "                print('Augment Epoch: {:} / {:}'.format(augment_idx, cfg['augment_epoch']))\n",
    "\n",
    "                \n",
    "                for i, (images, target) in enumerate(tqdm(train_loader_cache)):\n",
    "                    images = images.cuda()\n",
    "                    image_features = clip_model.encode_image(images)\n",
    "                    train_features.append(image_features)\n",
    "                    if augment_idx == 0:\n",
    "                        target = target.cuda()\n",
    "                        cache_values.append(target)\n",
    "                cache_keys.append(torch.cat(train_features, dim=0).unsqueeze(0))\n",
    "            \n",
    "        cache_keys = torch.cat(cache_keys, dim=0).mean(dim=0)\n",
    "        cache_keys /= cache_keys.norm(dim=-1, keepdim=True)\n",
    "        cache_keys = cache_keys.permute(1, 0)\n",
    "        cache_values = F.one_hot(torch.cat(cache_values, dim=0)).half()\n",
    "\n",
    "        torch.save(cache_keys, cfg['cache_dir'] + '/keys_' + str(cfg['shots']) + \"shots.pt\")\n",
    "        torch.save(cache_values, cfg['cache_dir'] + '/values_' + str(cfg['shots']) + \"shots.pt\")\n",
    "\n",
    "    else:\n",
    "        cache_keys = torch.load(cfg['cache_dir'] + '/keys_' + str(cfg['shots']) + \"shots.pt\")\n",
    "        cache_values = torch.load(cfg['cache_dir'] + '/values_' + str(cfg['shots']) + \"shots.pt\")\n",
    "\n",
    "    return cache_keys, cache_values"
   ]
  },
  {
   "cell_type": "code",
   "execution_count": 5,
   "id": "2dbb0e01",
   "metadata": {},
   "outputs": [],
   "source": [
    "def pre_load_features(cfg, split, clip_model, loader):\n",
    "\n",
    "    if cfg['load_pre_feat'] == False:\n",
    "        features, labels = [], []\n",
    "\n",
    "        with torch.no_grad():\n",
    "            for i, (images, target) in enumerate(tqdm(loader)):\n",
    "                images, target = images.cuda(), target.cuda()\n",
    "                image_features = clip_model.encode_image(images)\n",
    "                image_features /= image_features.norm(dim=-1, keepdim=True)\n",
    "                features.append(image_features)\n",
    "                labels.append(target)\n",
    "\n",
    "        features, labels = torch.cat(features), torch.cat(labels)\n",
    "\n",
    "        torch.save(features, cfg['cache_dir'] + \"/\" + split + \"_f.pt\")\n",
    "        torch.save(labels, cfg['cache_dir'] + \"/\" + split + \"_l.pt\")\n",
    "   \n",
    "    else:\n",
    "        features = torch.load(cfg['cache_dir'] + \"/\" + split + \"_f.pt\")\n",
    "        labels = torch.load(cfg['cache_dir'] + \"/\" + split + \"_l.pt\")\n",
    "    \n",
    "    return features, labels"
   ]
  },
  {
   "cell_type": "code",
   "execution_count": 6,
   "id": "0bceda4b",
   "metadata": {},
   "outputs": [
    {
     "data": {
      "text/plain": [
       "dict_keys(['caltech101', 'food101', 'ucf101'])"
      ]
     },
     "execution_count": 6,
     "metadata": {},
     "output_type": "execute_result"
    }
   ],
   "source": [
    "all_configs.keys()"
   ]
  },
  {
   "cell_type": "code",
   "execution_count": 11,
   "id": "459e7ea7",
   "metadata": {},
   "outputs": [
    {
     "name": "stdout",
     "output_type": "stream",
     "text": [
      "Reading split from Data/caltech-101\\split_zhou_Caltech101.json\n",
      "Creating a 16-shot dataset\n",
      "Augment Epoch: 0 / 10\n"
     ]
    },
    {
     "name": "stderr",
     "output_type": "stream",
     "text": [
      "100%|██████████| 7/7 [00:33<00:00,  4.85s/it]\n"
     ]
    },
    {
     "name": "stdout",
     "output_type": "stream",
     "text": [
      "Augment Epoch: 1 / 10\n"
     ]
    },
    {
     "name": "stderr",
     "output_type": "stream",
     "text": [
      "100%|██████████| 7/7 [00:31<00:00,  4.56s/it]\n"
     ]
    },
    {
     "name": "stdout",
     "output_type": "stream",
     "text": [
      "Augment Epoch: 2 / 10\n"
     ]
    },
    {
     "name": "stderr",
     "output_type": "stream",
     "text": [
      "100%|██████████| 7/7 [00:32<00:00,  4.65s/it]\n"
     ]
    },
    {
     "name": "stdout",
     "output_type": "stream",
     "text": [
      "Augment Epoch: 3 / 10\n"
     ]
    },
    {
     "name": "stderr",
     "output_type": "stream",
     "text": [
      "100%|██████████| 7/7 [00:31<00:00,  4.49s/it]\n"
     ]
    },
    {
     "name": "stdout",
     "output_type": "stream",
     "text": [
      "Augment Epoch: 4 / 10\n"
     ]
    },
    {
     "name": "stderr",
     "output_type": "stream",
     "text": [
      "100%|██████████| 7/7 [00:30<00:00,  4.36s/it]\n"
     ]
    },
    {
     "name": "stdout",
     "output_type": "stream",
     "text": [
      "Augment Epoch: 5 / 10\n"
     ]
    },
    {
     "name": "stderr",
     "output_type": "stream",
     "text": [
      "100%|██████████| 7/7 [00:31<00:00,  4.43s/it]\n"
     ]
    },
    {
     "name": "stdout",
     "output_type": "stream",
     "text": [
      "Augment Epoch: 6 / 10\n"
     ]
    },
    {
     "name": "stderr",
     "output_type": "stream",
     "text": [
      "100%|██████████| 7/7 [00:31<00:00,  4.44s/it]\n"
     ]
    },
    {
     "name": "stdout",
     "output_type": "stream",
     "text": [
      "Augment Epoch: 7 / 10\n"
     ]
    },
    {
     "name": "stderr",
     "output_type": "stream",
     "text": [
      "100%|██████████| 7/7 [00:30<00:00,  4.41s/it]\n"
     ]
    },
    {
     "name": "stdout",
     "output_type": "stream",
     "text": [
      "Augment Epoch: 8 / 10\n"
     ]
    },
    {
     "name": "stderr",
     "output_type": "stream",
     "text": [
      "100%|██████████| 7/7 [00:31<00:00,  4.48s/it]\n"
     ]
    },
    {
     "name": "stdout",
     "output_type": "stream",
     "text": [
      "Augment Epoch: 9 / 10\n"
     ]
    },
    {
     "name": "stderr",
     "output_type": "stream",
     "text": [
      "100%|██████████| 7/7 [00:30<00:00,  4.43s/it]\n",
      "100%|██████████| 26/26 [00:31<00:00,  1.20s/it]\n",
      "100%|██████████| 39/39 [00:33<00:00,  1.18it/s]\n"
     ]
    },
    {
     "name": "stdout",
     "output_type": "stream",
     "text": [
      "Reading split from Data/food-101\\split_zhou_Food101.json\n"
     ]
    },
    {
     "name": "stderr",
     "output_type": "stream",
     "text": [
      "Exception ignored in: <function _MultiProcessingDataLoaderIter.__del__ at 0x0000019F3E37FC70>\n",
      "Traceback (most recent call last):\n",
      "  File \"C:\\Users\\anish\\AppData\\Roaming\\Python\\Python310\\site-packages\\torch\\utils\\data\\dataloader.py\", line 1604, in __del__\n",
      "    self._shutdown_workers()\n",
      "  File \"C:\\Users\\anish\\AppData\\Roaming\\Python\\Python310\\site-packages\\torch\\utils\\data\\dataloader.py\", line 1562, in _shutdown_workers\n",
      "    if self._persistent_workers or self._workers_status[worker_id]:\n",
      "AttributeError: '_MultiProcessingDataLoaderIter' object has no attribute '_workers_status'\n"
     ]
    },
    {
     "name": "stdout",
     "output_type": "stream",
     "text": [
      "Creating a 16-shot dataset\n",
      "Augment Epoch: 0 / 10\n"
     ]
    },
    {
     "name": "stderr",
     "output_type": "stream",
     "text": [
      "100%|██████████| 7/7 [00:34<00:00,  4.94s/it]\n"
     ]
    },
    {
     "name": "stdout",
     "output_type": "stream",
     "text": [
      "Augment Epoch: 1 / 10\n"
     ]
    },
    {
     "name": "stderr",
     "output_type": "stream",
     "text": [
      "100%|██████████| 7/7 [00:32<00:00,  4.71s/it]\n"
     ]
    },
    {
     "name": "stdout",
     "output_type": "stream",
     "text": [
      "Augment Epoch: 2 / 10\n"
     ]
    },
    {
     "name": "stderr",
     "output_type": "stream",
     "text": [
      "100%|██████████| 7/7 [00:32<00:00,  4.65s/it]\n"
     ]
    },
    {
     "name": "stdout",
     "output_type": "stream",
     "text": [
      "Augment Epoch: 3 / 10\n"
     ]
    },
    {
     "name": "stderr",
     "output_type": "stream",
     "text": [
      "100%|██████████| 7/7 [00:32<00:00,  4.66s/it]\n"
     ]
    },
    {
     "name": "stdout",
     "output_type": "stream",
     "text": [
      "Augment Epoch: 4 / 10\n"
     ]
    },
    {
     "name": "stderr",
     "output_type": "stream",
     "text": [
      "100%|██████████| 7/7 [00:46<00:00,  6.61s/it]\n"
     ]
    },
    {
     "name": "stdout",
     "output_type": "stream",
     "text": [
      "Augment Epoch: 5 / 10\n"
     ]
    },
    {
     "name": "stderr",
     "output_type": "stream",
     "text": [
      "100%|██████████| 7/7 [00:33<00:00,  4.74s/it]\n"
     ]
    },
    {
     "name": "stdout",
     "output_type": "stream",
     "text": [
      "Augment Epoch: 6 / 10\n"
     ]
    },
    {
     "name": "stderr",
     "output_type": "stream",
     "text": [
      "100%|██████████| 7/7 [00:32<00:00,  4.63s/it]\n"
     ]
    },
    {
     "name": "stdout",
     "output_type": "stream",
     "text": [
      "Augment Epoch: 7 / 10\n"
     ]
    },
    {
     "name": "stderr",
     "output_type": "stream",
     "text": [
      "100%|██████████| 7/7 [00:32<00:00,  4.66s/it]\n"
     ]
    },
    {
     "name": "stdout",
     "output_type": "stream",
     "text": [
      "Augment Epoch: 8 / 10\n"
     ]
    },
    {
     "name": "stderr",
     "output_type": "stream",
     "text": [
      "100%|██████████| 7/7 [00:32<00:00,  4.68s/it]\n"
     ]
    },
    {
     "name": "stdout",
     "output_type": "stream",
     "text": [
      "Augment Epoch: 9 / 10\n"
     ]
    },
    {
     "name": "stderr",
     "output_type": "stream",
     "text": [
      "100%|██████████| 7/7 [00:32<00:00,  4.63s/it]\n",
      "100%|██████████| 316/316 [01:17<00:00,  4.06it/s]\n",
      "100%|██████████| 474/474 [01:49<00:00,  4.31it/s]\n"
     ]
    },
    {
     "name": "stdout",
     "output_type": "stream",
     "text": [
      "Reading split from Data/ucf101\\split_zhou_UCF101.json\n",
      "Creating a 16-shot dataset\n",
      "Augment Epoch: 0 / 10\n"
     ]
    },
    {
     "name": "stderr",
     "output_type": "stream",
     "text": [
      "100%|██████████| 7/7 [00:36<00:00,  5.15s/it]\n"
     ]
    },
    {
     "name": "stdout",
     "output_type": "stream",
     "text": [
      "Augment Epoch: 1 / 10\n"
     ]
    },
    {
     "name": "stderr",
     "output_type": "stream",
     "text": [
      "100%|██████████| 7/7 [00:32<00:00,  4.58s/it]\n"
     ]
    },
    {
     "name": "stdout",
     "output_type": "stream",
     "text": [
      "Augment Epoch: 2 / 10\n"
     ]
    },
    {
     "name": "stderr",
     "output_type": "stream",
     "text": [
      "100%|██████████| 7/7 [00:33<00:00,  4.84s/it]\n"
     ]
    },
    {
     "name": "stdout",
     "output_type": "stream",
     "text": [
      "Augment Epoch: 3 / 10\n"
     ]
    },
    {
     "name": "stderr",
     "output_type": "stream",
     "text": [
      "100%|██████████| 7/7 [00:31<00:00,  4.45s/it]\n"
     ]
    },
    {
     "name": "stdout",
     "output_type": "stream",
     "text": [
      "Augment Epoch: 4 / 10\n"
     ]
    },
    {
     "name": "stderr",
     "output_type": "stream",
     "text": [
      "100%|██████████| 7/7 [00:32<00:00,  4.66s/it]\n"
     ]
    },
    {
     "name": "stdout",
     "output_type": "stream",
     "text": [
      "Augment Epoch: 5 / 10\n"
     ]
    },
    {
     "name": "stderr",
     "output_type": "stream",
     "text": [
      "100%|██████████| 7/7 [00:32<00:00,  4.67s/it]\n"
     ]
    },
    {
     "name": "stdout",
     "output_type": "stream",
     "text": [
      "Augment Epoch: 6 / 10\n"
     ]
    },
    {
     "name": "stderr",
     "output_type": "stream",
     "text": [
      "100%|██████████| 7/7 [00:33<00:00,  4.83s/it]\n"
     ]
    },
    {
     "name": "stdout",
     "output_type": "stream",
     "text": [
      "Augment Epoch: 7 / 10\n"
     ]
    },
    {
     "name": "stderr",
     "output_type": "stream",
     "text": [
      "100%|██████████| 7/7 [00:34<00:00,  4.87s/it]\n"
     ]
    },
    {
     "name": "stdout",
     "output_type": "stream",
     "text": [
      "Augment Epoch: 8 / 10\n"
     ]
    },
    {
     "name": "stderr",
     "output_type": "stream",
     "text": [
      "100%|██████████| 7/7 [00:34<00:00,  4.93s/it]\n"
     ]
    },
    {
     "name": "stdout",
     "output_type": "stream",
     "text": [
      "Augment Epoch: 9 / 10\n"
     ]
    },
    {
     "name": "stderr",
     "output_type": "stream",
     "text": [
      "100%|██████████| 7/7 [00:37<00:00,  5.38s/it]\n",
      "100%|██████████| 30/30 [00:38<00:00,  1.29s/it]\n",
      "100%|██████████| 60/60 [00:40<00:00,  1.48it/s]\n"
     ]
    }
   ],
   "source": [
    "cfg_results = {}\n",
    "\n",
    "for c in all_configs:\n",
    "    cfg = all_configs[c]\n",
    "    # Load CLIP model\n",
    "    clip_model, preprocess = clip.load(cfg['backbone'])\n",
    "    clip_model.eval()\n",
    "\n",
    "    random.seed(1)\n",
    "    torch.manual_seed(1)\n",
    "\n",
    "    # Dataset\n",
    "    dataset = build_dataset(cfg['dataset'], cfg['root_path'], cfg['shots'])\n",
    "    val_loader = build_data_loader(dataset.val, batch_size=64, is_train=False, tfm=preprocess, shuffle=False)\n",
    "    test_loader = build_data_loader(dataset.test, batch_size=64, is_train=False, tfm=preprocess, shuffle=False)\n",
    "\n",
    "    # Train transforms\n",
    "    train_transform = transforms.Compose([\n",
    "        transforms.RandomResizedCrop(size=224, scale=(0.5, 1), interpolation=transforms.InterpolationMode.BICUBIC),\n",
    "        transforms.RandomHorizontalFlip(p=0.5),\n",
    "        transforms.ToTensor(),\n",
    "        transforms.Normalize(mean=(0.48145466, 0.4578275, 0.40821073),\n",
    "                             std=(0.26862954, 0.26130258, 0.27577711))\n",
    "    ])\n",
    "    train_loader_cache = build_data_loader(dataset.train_x, batch_size=256, tfm=train_transform, is_train=True, shuffle=False)\n",
    "\n",
    "    # CLIP weights and cache model\n",
    "    clip_weights = clip_classifier(dataset.classnames, dataset.template, clip_model, cupl_enable=False,dataset_name=c)\n",
    "    clip_weights_cupl = clip_classifier(dataset.classnames, dataset.template, clip_model, cupl_enable=True,dataset_name=c)\n",
    "\n",
    "    cache_keys, cache_values = build_cache_model(cfg, clip_model, train_loader_cache)\n",
    "\n",
    "    # Preload features\n",
    "    val_features, val_labels = pre_load_features(cfg, \"val\", clip_model, val_loader)\n",
    "    test_features, test_labels = pre_load_features(cfg, \"test\", clip_model, test_loader)\n",
    "\n",
    "    # Store results for this config\n",
    "    cfg_results[c] = {\n",
    "        \"clip_weights\": clip_weights,\n",
    "        \"clip_weights_cupl\": clip_weights_cupl,\n",
    "        \"cache_keys\": cache_keys,\n",
    "        \"cache_values\": cache_values,\n",
    "        \"val_features\": val_features,\n",
    "        \"val_labels\": val_labels,\n",
    "        \"test_features\": test_features,\n",
    "        \"test_labels\": test_labels,\n",
    "    }\n"
   ]
  },
  {
   "cell_type": "code",
   "execution_count": 18,
   "id": "0c40da1e",
   "metadata": {},
   "outputs": [
    {
     "data": {
      "text/plain": [
       "dict_keys(['clip_weights', 'clip_weights_cupl', 'cache_keys', 'cache_values', 'val_features', 'val_labels', 'test_features', 'test_labels'])"
      ]
     },
     "execution_count": 18,
     "metadata": {},
     "output_type": "execute_result"
    }
   ],
   "source": [
    "cfg_results['caltech101'].keys()"
   ]
  },
  {
   "cell_type": "markdown",
   "id": "8fe91c51",
   "metadata": {},
   "source": [
    "**Class Accuracy Function**"
   ]
  },
  {
   "cell_type": "code",
   "execution_count": 16,
   "id": "7af924df",
   "metadata": {},
   "outputs": [],
   "source": [
    "def cls_acc(output, target, topk=1):\n",
    "    pred = output.topk(topk, 1, True, True)[1].t()\n",
    "    correct = pred.eq(target.view(1, -1).expand_as(pred))\n",
    "    acc = float(correct[: topk].reshape(-1).float().sum(0, keepdim=True).cpu().numpy())\n",
    "    acc = 100 * acc / target.shape[0]\n",
    "    return acc"
   ]
  },
  {
   "cell_type": "code",
   "execution_count": 68,
   "id": "dd46c214",
   "metadata": {},
   "outputs": [
    {
     "name": "stderr",
     "output_type": "stream",
     "text": [
      "C:\\Users\\anish\\AppData\\Local\\Temp\\ipykernel_5088\\395259161.py:4: DeprecationWarning: Conversion of an array with ndim > 0 to a scalar is deprecated, and will error in future. Ensure you extract a single element from your array before performing this operation. (Deprecated NumPy 1.25.)\n",
      "  acc = float(correct[: topk].reshape(-1).float().sum(0, keepdim=True).cpu().numpy())\n"
     ]
    },
    {
     "name": "stdout",
     "output_type": "stream",
     "text": [
      "caltech101\n",
      "After searching, the best accuarcy: 96.42.\n",
      "\n",
      "caltech101\n",
      "**** Zero-shot CLIP's test accuracy: 87.67. ****\n",
      "\n",
      "\n",
      "**** Zero-shot CLIP's test accuracy: 94.32. ****\n",
      "\n",
      "**** Tip-Adapter's test accuracy: 94.60. ****\n",
      "\n",
      "**** Tip-Adapter's test accuracy: 95.38. ****\n",
      "\n",
      "food101\n",
      "After searching, the best accuarcy: 86.58.\n",
      "\n",
      "food101\n",
      "**** Zero-shot CLIP's test accuracy: 85.86. ****\n",
      "\n",
      "\n",
      "**** Zero-shot CLIP's test accuracy: 86.10. ****\n",
      "\n",
      "**** Tip-Adapter's test accuracy: 86.31. ****\n",
      "\n",
      "**** Tip-Adapter's test accuracy: 86.49. ****\n",
      "\n",
      "ucf101\n",
      "After searching, the best accuarcy: 83.67.\n",
      "\n",
      "ucf101\n",
      "**** Zero-shot CLIP's test accuracy: 67.59. ****\n",
      "\n",
      "\n",
      "**** Zero-shot CLIP's test accuracy: 70.39. ****\n",
      "\n",
      "**** Tip-Adapter's test accuracy: 78.59. ****\n",
      "\n",
      "**** Tip-Adapter's test accuracy: 80.23. ****\n",
      "\n"
     ]
    }
   ],
   "source": [
    "allacc = {}\n",
    "for val in cfg_results:\n",
    "\n",
    "    vals = cfg_results[val]\n",
    "    cfg = all_configs[val]\n",
    "\n",
    "    adapter=None\n",
    "    beta_list = [i * (cfg['search_scale'][0] - 0.1) / cfg['search_step'][0] + 0.1 for i in range(cfg['search_step'][0])]\n",
    "    alpha_list = [i * (cfg['search_scale'][1] - 0.1) / cfg['search_step'][1] + 0.1 for i in range(cfg['search_step'][1])]\n",
    "\n",
    "    best_acc = 0\n",
    "    best_beta, best_alpha = 0, 0\n",
    "\n",
    "    for beta in beta_list:\n",
    "        for alpha in alpha_list:\n",
    "            if adapter:\n",
    "                affinity = adapter(vals['val_features'])\n",
    "            else:\n",
    "                affinity = vals['val_features'] @ vals['cache_keys']\n",
    "\n",
    "            cache_logits = ((-1) * (beta - beta * affinity)).exp() @ vals['cache_values']\n",
    "            clip_logits_cupl = 100. * vals['val_features'] @ vals['clip_weights_cupl']\n",
    "            tip_logits = clip_logits_cupl + cache_logits * alpha\n",
    "            acc = cls_acc(tip_logits, vals['val_labels'])\n",
    "        \n",
    "            if acc > best_acc:\n",
    "                best_acc = acc\n",
    "                best_beta = beta\n",
    "                best_alpha = alpha\n",
    "\n",
    "    print(val+\"\\nAfter searching, the best accuarcy: {:.2f}.\\n\".format(best_acc))\n",
    "\n",
    "\n",
    "    #Test CLIP accuracy without CuPL\n",
    "    clip_logits_test = 100. * vals['test_features'] @ vals['clip_weights']\n",
    "    test_clip_acc = cls_acc(clip_logits_test, vals['test_labels'])\n",
    "    print(val+\"\\n**** Zero-shot CLIP's test accuracy: {:.2f}. ****\\n\".format(test_clip_acc))   \n",
    "\n",
    "\n",
    "    clip_logits_test_cupl = 100. * vals['test_features'] @ vals['clip_weights_cupl']\n",
    "    test_clip_acc_cupl = cls_acc(clip_logits_test_cupl, vals['test_labels'])\n",
    "    print(\"\\n**** Zero-shot CLIP's test accuracy: {:.2f}. ****\\n\".format(test_clip_acc_cupl))   \n",
    "\n",
    "\n",
    "    affinity_test = vals['test_features'] @ vals['cache_keys']\n",
    "    cache_logits_test = ((-1) * (best_beta - best_beta * affinity_test)).exp() @ vals['cache_values']\n",
    "    tip_logits_test = clip_logits_test + cache_logits_test * best_alpha\n",
    "    test_tip_acc = cls_acc(tip_logits_test, vals['test_labels'])\n",
    "    print(\"**** Tip-Adapter's test accuracy: {:.2f}. ****\\n\".format(test_tip_acc))\n",
    "\n",
    "\n",
    "    affinity_test = vals['test_features'] @ vals['cache_keys']\n",
    "    cache_logits_test = ((-1) * (best_beta - best_beta * affinity_test)).exp() @ vals['cache_values']\n",
    "    tip_logits_test_cupl = clip_logits_test_cupl + cache_logits_test * best_alpha\n",
    "    test_tip_acc_cupl = cls_acc(tip_logits_test_cupl, vals['test_labels'])\n",
    "    print(\"**** Tip-Adapter's test accuracy: {:.2f}. ****\\n\".format(test_tip_acc_cupl))\n",
    "\n",
    "    allacc[val] = {\n",
    "        'test_clip_acc': round(test_clip_acc,2),\n",
    "        'test_clip_acc_cupl' : round(test_clip_acc_cupl,2),\n",
    "        'test_tip_acc': round(test_tip_acc,2),\n",
    "        'test_tip_acc_cupl': round(test_tip_acc_cupl,2)\n",
    "    }"
   ]
  },
  {
   "cell_type": "code",
   "execution_count": 73,
   "id": "121c0fdc",
   "metadata": {},
   "outputs": [
    {
     "data": {
      "image/png": "[encoded data removed]",
      "text/plain": [
       "<Figure size 500x200 with 1 Axes>"
      ]
     },
     "metadata": {},
     "output_type": "display_data"
    }
   ],
   "source": [
    "import matplotlib.pyplot as plt\n",
    "import pandas as pd\n",
    "\n",
    "\n",
    "# Create DataFrame\n",
    "datasets = list(allacc.keys())\n",
    "clip_orig = [allacc[d]['test_clip_acc'] for d in datasets]\n",
    "clip_cupl = [allacc[d]['test_clip_acc_cupl'] for d in datasets]\n",
    "clip_change = [round(cupl - orig, 2) for orig, cupl in zip(clip_orig, clip_cupl)]\n",
    "\n",
    "tip_orig = [allacc[d]['test_tip_acc'] for d in datasets]\n",
    "tip_cupl = [allacc[d]['test_tip_acc_cupl'] for d in datasets]\n",
    "tip_change = [round(cupl - orig, 2) for orig, cupl in zip(tip_orig, tip_cupl)]\n",
    "\n",
    "data = pd.DataFrame({\n",
    "    '': ['Original CLIP', 'CLIP+CuPL', 'Difference', 'Original TIP','TIP+CuPL', 'Difference'],\n",
    "    'Caltech': [clip_orig[0], clip_cupl[0], clip_change[0], tip_orig[0], tip_cupl[0], tip_change[0]],\n",
    "    'Food':    [clip_orig[1], clip_cupl[1], clip_change[1], tip_orig[1], tip_cupl[1], tip_change[1]],\n",
    "    'UCF':     [clip_orig[2], clip_cupl[2], clip_change[2], tip_orig[2], tip_cupl[2], tip_change[2]]\n",
    "})\n",
    "\n",
    "# Display table using matplotlib\n",
    "fig, ax = plt.subplots(figsize=(5, 2))\n",
    "ax.axis('off')\n",
    "table = ax.table(cellText=data.values, colLabels=data.columns, loc='center', cellLoc='center')\n",
    "\n",
    "# Style all cells: black background, white text & white borders\n",
    "for i in range(len(data)):\n",
    "    for j in range(len(data.columns)):\n",
    "        cell = table[i + 1, j]\n",
    "        cell.set_facecolor('black')\n",
    "        cell.get_text().set_color('white')\n",
    "        cell.set_edgecolor('white')  # <-- white border\n",
    "        cell.set_text_props(ha='center', va='center')\n",
    "\n",
    "# Style header\n",
    "for j in range(len(data.columns)):\n",
    "    cell = table[0, j]\n",
    "    cell.set_facecolor('black')\n",
    "    cell.set_edgecolor('white')  # <-- white border for header\n",
    "    cell.set_text_props(weight='bold', color='white', ha='center', va='center')\n",
    "\n",
    "# Highlight positive/negative differences in green/red text\n",
    "diff_rows = [2, 5]\n",
    "for row in diff_rows:\n",
    "    for col_idx, col_name in enumerate(['Caltech', 'Food', 'UCF']):\n",
    "        val = data.loc[row, col_name]\n",
    "        text_color = 'lime' if val > 0 else ('red' if val < 0 else 'white')\n",
    "        table[row + 1, col_idx + 1].get_text().set_color(text_color)\n",
    "\n",
    "plt.tight_layout()\n",
    "plt.show()\n"
   ]
  },
  {
   "cell_type": "code",
   "execution_count": 74,
   "id": "dcdee010",
   "metadata": {},
   "outputs": [
    {
     "name": "stdout",
     "output_type": "stream",
     "text": [
      "\n",
      "Top prompts ranked by Tip-Adapter similarity:\n",
      "1. A airplane is a large metal object that has wings and engines. — 0.2838\n",
      "2. A plane is a metal, winged machine that is used for transportation. — 0.2609\n",
      "3. An airplane primarily consists of wings, a fuselage, and an empennage. — 0.2555\n",
      "4. A modern airplane typically has either a tube-shaped fuselage or a pod-like fuselage, wings, one or more engines, landing gear, and a tail. — 0.2434\n",
      "5. An airplane looks like a small, metal, bird-like object with two large metal wings. — 0.2407\n",
      "6. An airplane typically has two wings and a tail. — 0.2383\n",
      "7. A airplane is a large metal object that has wings and can fly. — 0.2379\n",
      "8. Aeroplanes typically have wings and engines. — 0.2289\n",
      "9. A airplane is a long, narrow object with wings. — 0.2253\n",
      "10. In the photo, an airplane is seen flying in the sky. — 0.2223\n"
     ]
    },
    {
     "data": {
      "image/png": "[encoded data removed]",
      "text/plain": [
       "<Figure size 1500x1000 with 1 Axes>"
      ]
     },
     "metadata": {},
     "output_type": "display_data"
    }
   ],
   "source": [
    "import torch\n",
    "import clip\n",
    "import numpy as np\n",
    "import matplotlib.pyplot as plt\n",
    "import cv2\n",
    "from PIL import Image\n",
    "import json\n",
    "import torch.nn.functional as F\n",
    "\n",
    "# Setup\n",
    "device = \"cuda\" if torch.cuda.is_available() else \"cpu\"\n",
    "model, preprocess = clip.load(\"ViT-B/32\", device=device)\n",
    "\n",
    "# Load image\n",
    "image_path = \"Data/caltech-101/101_ObjectCategories/airplanes/image_0001.jpg\"\n",
    "image = Image.open(image_path).convert(\"RGB\")\n",
    "image_input = preprocess(image).unsqueeze(0).to(device)\n",
    "\n",
    "# Load prompts from JSON\n",
    "with open(\"CuPL_prompts/caltech101.json\", \"r\") as f:\n",
    "    prompt_data = json.load(f)\n",
    "\n",
    "class_name = \"airplane\"\n",
    "text_prompts = prompt_data.get(class_name, [f\"A photo of a {class_name}\"])\n",
    "if not isinstance(text_prompts, list):\n",
    "    text_prompts = [text_prompts]\n",
    "\n",
    "# Encode prompts\n",
    "BATCH_SIZE = 64\n",
    "text_features = []\n",
    "with torch.no_grad():\n",
    "    for i in range(0, len(text_prompts), BATCH_SIZE):\n",
    "        batch = clip.tokenize(text_prompts[i:i + BATCH_SIZE]).to(device)\n",
    "        feats = model.encode_text(batch)\n",
    "        feats = F.normalize(feats, dim=-1)\n",
    "        text_features.append(feats)\n",
    "text_features = torch.cat(text_features, dim=0)  # [num_prompts, 512]\n",
    "\n",
    "# Extract patch tokens from image\n",
    "with torch.no_grad():\n",
    "    x = image_input.type(model.visual.conv1.weight.dtype)\n",
    "    x = model.visual.conv1(x)\n",
    "    x = x.reshape(1, 768, -1).permute(0, 2, 1)\n",
    "    cls_token = model.visual.class_embedding.to(x.dtype).expand(x.shape[0], 1, -1)\n",
    "    x = torch.cat([cls_token, x], dim=1)\n",
    "    x = x + model.visual.positional_embedding.to(x.dtype)\n",
    "    x = model.visual.ln_pre(x)\n",
    "    for blk in model.visual.transformer.resblocks:\n",
    "        x = blk(x)\n",
    "    x = model.visual.ln_post(x)\n",
    "    patch_tokens = x[:, 1:, :].squeeze(0)  # [49, 768]\n",
    "\n",
    "# Dtype alignment\n",
    "model_dtype = model.visual.conv1.weight.dtype\n",
    "patch_tokens = patch_tokens.to(model_dtype)\n",
    "text_features = text_features.to(model_dtype)\n",
    "\n",
    "# Project prompts to visual space\n",
    "if model.visual.proj is not None:\n",
    "    text_features_proj = text_features @ model.visual.proj.T\n",
    "else:\n",
    "    text_features_proj = text_features\n",
    "\n",
    "# === FAKE cache data (replace with real cache later) ===\n",
    "N_cache = 30\n",
    "num_prompts = len(text_prompts)\n",
    "cache_keys = torch.randn(N_cache, 512).to(device)\n",
    "cache_values = torch.randn(N_cache, num_prompts).to(device)\n",
    "\n",
    "# Project and normalize\n",
    "cache_keys = cache_keys.to(model_dtype)\n",
    "if model.visual.proj is not None:\n",
    "    cache_keys = cache_keys @ model.visual.proj.T\n",
    "\n",
    "# Convert everything to float and normalize\n",
    "patch_tokens = F.normalize(patch_tokens.float(), dim=-1)\n",
    "text_features_proj = F.normalize(text_features_proj.float(), dim=-1)\n",
    "cache_keys = F.normalize(cache_keys.float(), dim=-1)\n",
    "cache_values = F.normalize(cache_values.float(), dim=-1)\n",
    "\n",
    "\n",
    "\n",
    "# === CLIP logits ===\n",
    "clip_logits = patch_tokens @ text_features_proj.T  # [49, num_prompts]\n",
    "\n",
    "# === Tip-Adapter logic with safe beta-exp ===\n",
    "affinity = patch_tokens @ cache_keys.T  # [49, N_cache]\n",
    "affinity = affinity.clamp(min=-1.0, max=1.0)\n",
    "scaled_affinity = (-1) * (best_beta - best_beta * affinity)\n",
    "cache_logits = scaled_affinity.exp() @ cache_values  # [49, num_prompts]\n",
    "\n",
    "# Combine\n",
    "tip_logits = clip_logits + best_alpha * cache_logits  # [49, num_prompts]\n",
    "\n",
    "# === Ranking prompts ===\n",
    "avg_sim = tip_logits.mean(dim=0)  # [num_prompts]\n",
    "avg_sim_np = avg_sim.detach().cpu().numpy()\n",
    "ranked = sorted(zip(text_prompts, avg_sim_np), key=lambda x: x[1], reverse=True)\n",
    "\n",
    "print(\"\\nTop prompts ranked by Tip-Adapter similarity:\")\n",
    "for i, (p, s) in enumerate(ranked[:10]):\n",
    "    print(f\"{i+1}. {p} — {s:.4f}\")\n",
    "\n",
    "# === Generate heatmap ===\n",
    "top_index = avg_sim.argmax()\n",
    "top_text_feat = text_features_proj[top_index]\n",
    "top_text_feat = F.normalize(top_text_feat, dim=-1)\n",
    "tip_heatmap = (patch_tokens @ top_text_feat).detach().cpu().numpy()\n",
    "tip_heatmap = (tip_heatmap - tip_heatmap.min()) / (tip_heatmap.max() - tip_heatmap.min() + 1e-6)\n",
    "\n",
    "tip_heatmap = tip_heatmap.reshape(7, 7).astype(np.float32)\n",
    "heatmap_resized = cv2.resize(tip_heatmap, (224, 224), interpolation=cv2.INTER_CUBIC)\n",
    "heatmap_color = cv2.applyColorMap(np.uint8(255 * heatmap_resized), cv2.COLORMAP_JET)\n",
    "image_resized = cv2.resize(np.array(image), (224, 224))\n",
    "overlay = cv2.addWeighted(image_resized, 0.6, heatmap_color, 0.4, 0)\n",
    "\n",
    "# === Plot heatmap overlay ===\n",
    "fig, ax = plt.subplots(figsize=(15, 10))\n",
    "ax.imshow(overlay)\n",
    "ax.axis(\"off\")\n",
    "plt.title(f\"Top Prompt (Tip-Adapter): \\\"{text_prompts[top_index]}\\\"\")\n",
    "\n",
    "\n",
    "\n",
    "plt.show()\n"
   ]
  },
  {
   "cell_type": "code",
   "execution_count": null,
   "id": "4aa52103",
   "metadata": {},
   "outputs": [],
   "source": [
    "# === Get top prompt from Tip-Adapter ===\n",
    "avg_sim_tip = tip_logits.mean(dim=0)\n",
    "top_index = avg_sim_tip.argmax()\n",
    "top_text_feat = text_features_proj[top_index]\n",
    "top_text_feat = F.normalize(top_text_feat, dim=-1)\n",
    "top_prompt = text_prompts[top_index]\n",
    "\n",
    "# === Compute heatmaps for the same prompt ===\n",
    "# CLIP-only similarity\n",
    "clip_sim = patch_tokens @ top_text_feat\n",
    "\n",
    "# Tip-Adapter-enhanced similarity\n",
    "affinity = patch_tokens @ cache_keys.T\n",
    "# affinity = affinity.clamp(min=-1.0, max=1.0)\n",
    "scaled_affinity = (-1) * (best_beta - best_beta * affinity)\n",
    "cache_logits = scaled_affinity.exp() @ cache_values\n",
    "tip_sim = (patch_tokens @ top_text_feat) + best_alpha * cache_logits[:, top_index]\n",
    "\n",
    "# === Normalize heatmaps ===\n",
    "def normalize_heatmap(sim):\n",
    "    sim = sim.detach().cpu().numpy()\n",
    "    sim = (sim - sim.min()) / (sim.max() - sim.min() + 1e-6)\n",
    "    return sim.reshape(7, 7).astype(np.float32)\n",
    "\n",
    "heatmap_clip = normalize_heatmap(clip_sim)\n",
    "heatmap_tip = normalize_heatmap(tip_sim)\n",
    "\n",
    "# === Overlay heatmap on original image ===\n",
    "def overlay_heatmap(heatmap, original_image):\n",
    "    heatmap_resized = cv2.resize(heatmap, (224, 224), interpolation=cv2.INTER_CUBIC)\n",
    "    heatmap_color = cv2.applyColorMap(np.uint8(255 * heatmap_resized), cv2.COLORMAP_JET)\n",
    "    image_resized = cv2.resize(np.array(original_image), (224, 224))\n",
    "    return cv2.addWeighted(image_resized, 0.6, heatmap_color, 0.4, 0)\n",
    "\n",
    "overlay_clip = overlay_heatmap(heatmap_clip, image)\n",
    "overlay_tip = overlay_heatmap(heatmap_tip, image)\n",
    "\n",
    "# === Plot both heatmaps side-by-side ===\n",
    "fig, axs = plt.subplots(1, 2, figsize=(18, 9))\n",
    "axs[0].imshow(overlay_clip)\n",
    "axs[0].axis(\"off\")\n",
    "axs[0].set_title(f\"CLIP Heatmap\\n\\\"{top_prompt}\\\"\", fontsize=14)\n",
    "\n",
    "axs[1].imshow(overlay_tip)\n",
    "axs[1].axis(\"off\")\n",
    "axs[1].set_title(f\"Tip-Adapter Heatmap\\n\\\"{top_prompt}\\\"\", fontsize=14)\n",
    "\n",
    "# Shared colorbar\n",
    "cbar_ax = fig.add_axes([0.92, 0.15, 0.02, 0.7])\n",
    "cmap = plt.cm.jet\n",
    "norm = plt.Normalize(vmin=0, vmax=1)\n",
    "cb = plt.colorbar(plt.cm.ScalarMappable(norm=norm, cmap=cmap), cax=cbar_ax)\n",
    "cb.set_label(\"Cosine Similarity\", fontsize=12)\n",
    "\n",
    "plt.tight_layout()\n",
    "plt.show()\n"
   ]
  },
  {
   "cell_type": "code",
   "execution_count": null,
   "id": "13241d17",
   "metadata": {},
   "outputs": [],
   "source": [
    "import matplotlib.pyplot as plt\n",
    "import cv2\n",
    "import numpy as np\n",
    "import torch.nn.functional as F\n",
    "\n",
    "def visualize_clip_vs_tip(image: Image.Image,\n",
    "                          patch_tokens: torch.Tensor,\n",
    "                          text_feature_proj: torch.Tensor,\n",
    "                          cache_keys: torch.Tensor,\n",
    "                          cache_values: torch.Tensor,\n",
    "                          best_alpha: float,\n",
    "                          best_beta: float,\n",
    "                          prompt: str,\n",
    "                          title: str = \"CLIP vs Tip-Adapter Heatmap Comparison\"):\n",
    "\n",
    "    # Normalize text feature\n",
    "    text_feature = F.normalize(text_feature_proj, dim=-1)\n",
    "\n",
    "    # Compute CLIP similarity\n",
    "    sim_clip = patch_tokens @ text_feature\n",
    "\n",
    "    # Compute Tip-Adapter affinity and cache logits\n",
    "    affinity = patch_tokens @ cache_keys.T\n",
    "    # affinity = affinity.clamp(min=-1.0, max=1.0)\n",
    "    scaled_affinity = (-1) * (best_beta - best_beta * affinity)\n",
    "    cache_logits = scaled_affinity.exp() @ cache_values  # [49, num_prompts]\n",
    "\n",
    "    sim_tip = sim_clip + best_alpha * cache_logits[:, 0]\n",
    "\n",
    "    def to_heatmap(similarity):\n",
    "        sim = similarity.detach().cpu().numpy()\n",
    "        sim = (sim - sim.min()) / (sim.max() - sim.min() + 1e-6)\n",
    "        return sim.reshape(7, 7).astype(np.float32)\n",
    "\n",
    "    heatmap_clip = to_heatmap(sim_clip)\n",
    "    heatmap_tip = to_heatmap(sim_tip)\n",
    "    heatmap_diff = np.clip(heatmap_tip - heatmap_clip, 0, 1)\n",
    "\n",
    "    def overlay_heatmap(heatmap):\n",
    "        heatmap_resized = cv2.resize(heatmap, (224, 224), interpolation=cv2.INTER_CUBIC)\n",
    "        heatmap_color = cv2.applyColorMap(np.uint8(255 * heatmap_resized), cv2.COLORMAP_JET)\n",
    "        image_resized = cv2.resize(np.array(image), (224, 224))\n",
    "        return cv2.addWeighted(image_resized, 0.6, heatmap_color, 0.4, 0)\n",
    "\n",
    "    overlays = [overlay_heatmap(h) for h in [heatmap_clip, heatmap_tip, heatmap_diff]]\n",
    "\n",
    "    # Plot\n",
    "    fig, axs = plt.subplots(1, 3, figsize=(20, 7))\n",
    "    titles = ['CLIP Heatmap', 'Tip-Adapter Heatmap', 'Difference (Tip - CLIP)']\n",
    "    for ax, img, t in zip(axs, overlays, titles):\n",
    "        ax.imshow(img)\n",
    "        ax.set_title(t, fontsize=14)\n",
    "        ax.axis('off')\n",
    "    \n",
    "    fig.suptitle(f\"{title}\\nPrompt: '{prompt}'\", fontsize=16)\n",
    "    plt.tight_layout()\n",
    "    plt.show()\n",
    "\n",
    "\n",
    "visualize_clip_vs_tip(\n",
    "    image=image,\n",
    "    patch_tokens=patch_tokens,\n",
    "    text_feature_proj=top_text_feat,\n",
    "    cache_keys=cache_keys,\n",
    "    cache_values=cache_values,\n",
    "    best_alpha=best_alpha,\n",
    "    best_beta=best_beta,\n",
    "    prompt=text_prompts[top_index] )"
   ]
  },
  {
   "cell_type": "code",
   "execution_count": null,
   "id": "60973ac6",
   "metadata": {},
   "outputs": [],
   "source": []
  }
 ],
 "metadata": {
  "kernelspec": {
   "display_name": "Python 3",
   "language": "python",
   "name": "python3"
  },
  "language_info": {
   "codemirror_mode": {
    "name": "ipython",
    "version": 3
   },
   "file_extension": ".py",
   "mimetype": "text/x-python",
   "name": "python",
   "nbconvert_exporter": "python",
   "pygments_lexer": "ipython3",
   "version": "3.10.2"
  }
 },
 "nbformat": 4,
 "nbformat_minor": 5
}
